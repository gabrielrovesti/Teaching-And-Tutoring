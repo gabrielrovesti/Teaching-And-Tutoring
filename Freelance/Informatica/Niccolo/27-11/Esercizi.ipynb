{
 "cells": [
  {
   "cell_type": "markdown",
   "metadata": {},
   "source": [
    "I dati sugli incassi di 3 reparti di un grande magazzino nei primi 6 mesi dell'anno sono organizzati in una struttura tabellare dove il numero di riga indica il reparto e il numero di colonna indica il mese. \n",
    "\n",
    "Calcolare l'incasso totale:\n",
    "- per ogni mese (ogni colonna)\n",
    "- per ogni reparto (ogni riga)\n",
    "- di tutti i mesi e reparti (due cicli for annidati)\n",
    "\n",
    "Dati di partenza: reparto(gen, feb, mar, apr, mag, giu)\n",
    "\n",
    "reparto1: (100, 250, 300, 250, 500, 420)\n",
    "reparto2: (125, 200, 280, 230, 550, 680)\n",
    "reparto3: (150, 180, 200, 170, 370, 830)"
   ]
  },
  {
   "cell_type": "code",
   "execution_count": null,
   "metadata": {},
   "outputs": [],
   "source": [
    "# Dati di partenza\n",
    "reparto1 = {\"Gennaio\": 200, \"Febbraio\": 150, \"Marzo\": 300, \"Aprile\": 250, \"Maggio\": 500, \"Giugno\": 420}\n",
    "reparto2 = {\"Gennaio\": 125, \"Febbraio\": 200, \"Marzo\": 280, \"Aprile\": 230, \"Maggio\": 550, \"Giugno\": 680}\n",
    "reparto3 = {\"Gennaio\": 150, \"Febbraio\": 180, \"Marzo\": 200, \"Aprile\": 170, \"Maggio\": 370, \"Giugno\": 830}\n",
    "\n",
    "# Organizza i dati in una struttura di dizionari annidati\n",
    "reparti = {\"reparto1\": reparto1, \"reparto2\": reparto2, \"reparto3\": reparto3}\n",
    "\n",
    "print(reparti.items()) # stampa chiave-valore (\"dict_items\")\n",
    "print(reparti.keys()) # stampa solo le chiavi\n",
    "print(reparti.values()) # stampa solo i valori\n",
    "\n",
    "# Calcolo incasso per mese gennaio per tutti i reparti\n",
    "for i in reparto1:\n",
    "    print(\"Mese: \", i, \"Somma: \", reparto1[i] + reparto2[i] + reparto3[i])\n",
    "\n",
    "# Calcolo incasso per ogni reparto (reparto1, reparto2, reparto3) e non per mese\n",
    "for i in reparti:\n",
    "    print(\"Reparto: \", i, \"Somma: \", sum(reparti[i].values())) #versione ottimizzata\n",
    "\n",
    "# Calcolo di ogni incasso per reparto1 (ottimizzato)\n",
    "incasso_reparto1 = sum(reparto1.values())\n",
    "print(\"Stampa reparto1 ottimizzata: \", incasso_reparto1)\n",
    "\n",
    "incasso_reparto1=0\n",
    "# Classica col ciclo\n",
    "for valore in reparto1.values():\n",
    "    incasso_reparto1 += valore\n",
    "print(\"Stampa reparto1 con cicli for: \", incasso_reparto1)\n",
    "\n",
    "# Inizializza l'incasso totale per ogni mese e ogni reparto (con dizionari comprensivi)\n",
    "incasso_mese = {mese: 0 for mese in reparto1}\n",
    "incasso_reparto = {reparto: 0 for reparto in reparti}\n",
    "incasso_totale = 0\n",
    "\n",
    "# Calcola l'incasso totale per ogni mese (dizionari comprensivi)\n",
    "for reparto, incassi in reparti.items():\n",
    "    for mese, incasso in incassi.items():\n",
    "        incasso_mese[mese] += incasso\n",
    "\n",
    "# Calcola l'incasso totale per ogni reparto\n",
    "for reparto, incassi in reparti.items():\n",
    "    incasso_reparto[reparto] = sum(incassi.values())\n",
    "\n",
    "# Calcola l'incasso totale per tutti i mesi e reparti\n",
    "incasso_totale = sum(incasso_reparto.values())\n",
    "\n",
    "# Stampa i risultati\n",
    "print(\"Incasso per ogni mese:\", incasso_mese)\n",
    "print(\"Incasso per ogni reparto:\", incasso_reparto)\n",
    "print(\"Incasso totale per tutti i mesi e reparti:\", incasso_totale)\n"
   ]
  },
  {
   "cell_type": "code",
   "execution_count": 13,
   "metadata": {},
   "outputs": [
    {
     "name": "stdout",
     "output_type": "stream",
     "text": [
      "Incasso per ogni mese: [375, 630, 780, 650, 1420, 1930]\n",
      "Incasso per ogni reparto: [1820, 2065, 1900]\n",
      "Incasso totale per tutti i mesi e reparti: 5785\n"
     ]
    }
   ],
   "source": [
    "# Versione con liste\n",
    "\n",
    "# Dati di partenza\n",
    "reparti = [\n",
    "    [100, 250, 300, 250, 500, 420],  # reparto1\n",
    "    [125, 200, 280, 230, 550, 680],  # reparto2\n",
    "    [150, 180, 200, 170, 370, 830]   # reparto3\n",
    "]\n",
    "\n",
    "incasso_mese = {}\n",
    "\n",
    "# Inizializza l'incasso totale per ogni mese e ogni reparto\n",
    "incasso_mese = [0] * 6\n",
    "incasso_reparto = [0] * 3\n",
    "incasso_totale = 0\n",
    "\n",
    "# Calcola l'incasso totale per ogni mese\n",
    "for mese in range(6):\n",
    "    for reparto in range(3):\n",
    "        incasso_mese[mese] += reparti[reparto][mese]\n",
    "\n",
    "# Calcola l'incasso totale per ogni reparto\n",
    "for reparto in range(3):\n",
    "    incasso_reparto[reparto] = sum(reparti[reparto])\n",
    "\n",
    "# Calcola l'incasso totale per tutti i mesi e reparti\n",
    "incasso_totale = sum(incasso_reparto)\n",
    "\n",
    "# Stampa i risultati\n",
    "print(\"Incasso per ogni mese:\", incasso_mese)\n",
    "print(\"Incasso per ogni reparto:\", incasso_reparto)\n",
    "print(\"Incasso totale per tutti i mesi e reparti:\", incasso_totale)\n"
   ]
  },
  {
   "cell_type": "code",
   "execution_count": null,
   "metadata": {},
   "outputs": [],
   "source": [
    "Sia N un valore intero inserito dall'utente.\n",
    "\n",
    "Costruire una matrice N x N che abbia: \n",
    "- valore = 1 per gli elementi nelle righe di posizione dispari\n",
    "- valore = 0 per gli elementi nelle righe di posizione pari\n",
    "\n",
    "Mostra la matrice in forma tabellare"
   ]
  },
  {
   "cell_type": "code",
   "execution_count": 22,
   "metadata": {},
   "outputs": [
    {
     "name": "stdout",
     "output_type": "stream",
     "text": [
      "[1, 1, 1, 1]\n",
      "[0, 0, 0, 0]\n",
      "[1, 1, 1, 1]\n",
      "[0, 0, 0, 0]\n",
      "1 1 1 1 \n",
      "0 0 0 0 \n",
      "1 1 1 1 \n",
      "0 0 0 0 \n",
      "1 1 1 1 \n",
      "0 0 0 0 \n",
      "1 1 1 1 \n",
      "0 0 0 0 \n"
     ]
    }
   ],
   "source": [
    "# Sia N un valore intero inserito dall'utente.\n",
    "n = int(input(\"Inserisci un numero: \"))\n",
    "\n",
    "# Costruire una matrice N x N che abbia: \n",
    "# - valore = 1 per gli elementi nelle righe di posizione dispari\n",
    "# - valore = 0 per gli elementi nelle righe di posizione pari\n",
    "\n",
    "matrice = []\n",
    "for i in range(n):\n",
    "    riga = []\n",
    "    for j in range(n):\n",
    "        if i % 2 == 1:\n",
    "            riga.append(0)\n",
    "        else:\n",
    "            riga.append(1)\n",
    "    matrice.append(riga)\n",
    "\n",
    "# Mostra la matrice in forma tabellare\n",
    "for riga in matrice:\n",
    "    print(riga)\n",
    "\n",
    "# Mostra la matrice in forma tabellare (tradizionale)\n",
    "for i in range(n):\n",
    "    for j in range(n):\n",
    "        print(matrice[i][j], end=\" \")\n",
    "    print()\n",
    "\n",
    "for i in range(n):\n",
    "    for j in range(n):\n",
    "        print(matrice[i][j], end=\" \")\n",
    "    print()\n"
   ]
  }
 ],
 "metadata": {
  "kernelspec": {
   "display_name": "Python 3",
   "language": "python",
   "name": "python3"
  },
  "language_info": {
   "codemirror_mode": {
    "name": "ipython",
    "version": 3
   },
   "file_extension": ".py",
   "mimetype": "text/x-python",
   "name": "python",
   "nbconvert_exporter": "python",
   "pygments_lexer": "ipython3",
   "version": "3.12.0"
  }
 },
 "nbformat": 4,
 "nbformat_minor": 2
}
