{
 "cells": [
  {
   "cell_type": "markdown",
   "metadata": {},
   "source": [
    "# 1 - Prenotazione di voli\n",
    "\n",
    "Implementa un programma che simuli un semplice sistema di prenotazione di voli. \n",
    "\n",
    "Il programma dovrebbe permettere all'utente di inserire la città di partenza, la destinazione, la data di partenza e di ritorno, e restituire un elenco di voli disponibili con i relativi prezzi. "
   ]
  },
  {
   "cell_type": "code",
   "execution_count": null,
   "metadata": {},
   "outputs": [],
   "source": [
    "flights = [\n",
    "    {\"origin\": \"Roma\", \"destination\": \"Parigi\", \"date\": \"2023-06-15\", \"price\": 150},\n",
    "    {\"origin\": \"Milano\", \"destination\": \"Londra\", \"date\": \"2023-07-01\", \"price\": 200},\n",
    "    {\"origin\": \"Venezia\", \"destination\": \"Barcellona\", \"date\": \"2023-08-10\", \"price\": 180},\n",
    "    {\"origin\": \"Roma\", \"destination\": \"Berlino\", \"date\": \"2023-09-20\", \"price\": 220},\n",
    "    {\"origin\": \"Napoli\", \"destination\": \"Parigi\", \"date\": \"2023-10-05\", \"price\": 170}\n",
    "]\n",
    "\n",
    "origin = input(\"Inserisci la città di partenza: \")\n",
    "destination = input(\"Inserisci la destinazione: \")\n",
    "date = input(\"Inserisci la data di partenza (YYYY-MM-DD): \")\n",
    "\n",
    "found_flights = []\n",
    "\n",
    "for flight in flights:\n",
    "    if flight[\"origin\"] == origin and flight[\"destination\"] == destination and flight[\"date\"] == date:\n",
    "        found_flights.append(flight)\n",
    "\n",
    "if found_flights:\n",
    "    print(f\"Voli trovati per {origin} -> {destination} il {date}:\")\n",
    "    for flight in found_flights:\n",
    "        print(f\"Prezzo: {flight['price']} €\")\n",
    "else:\n",
    "    print(\"Nessun volo trovato per i criteri di ricerca specificati.\")\n"
   ]
  },
  {
   "cell_type": "markdown",
   "metadata": {},
   "source": [
    "# 2 - Algoritmo di Luhn (controllo carte di credito)\n",
    "\n",
    "Implementa un programma che convalida un numero di carta di credito utilizzando l'algoritmo di Luhn. L'algoritmo di Luhn è un semplice controllo di ridondanza utilizzato per validare numeri di identificazione, come quelli delle carte di credito.\n",
    "\n",
    "Ecco come funziona l'algoritmo di Luhn:\n",
    "\n",
    "1. Raddoppia il valore di ogni seconda cifra del numero di carta di credito, partendo dalla destra. Se il risultato del raddoppio è maggiore di 9, sottrai 9 dal risultato.\n",
    "2. Somma tutti i numeri ottenuti al passo 1.\n",
    "3. Somma tutte le cifre che non sono state raddoppiate.\n",
    "4. Somma i risultati dei passi 2 e 3.\n",
    "5. Se il risultato finale è divisibile per 10, il numero di carta di credito è valido.\n",
    "\n",
    "Ad esempio, per il numero di carta di credito 4012888888881881, l'algoritmo funzionerebbe così:\n",
    "\n",
    "1. Raddoppia le cifre nelle posizioni pari: 8, 8, 8, 8, 8, 8, 1, 8\n",
    "2. Somma i numeri raddoppiati: 8 + 8 + 8 + 8 + 8 + 8 + 2 + 8 = 58\n",
    "3. Somma le cifre non raddoppiate: 4 + 0 + 1 + 2 + 8 + 8 + 8 + 1 = 32\n",
    "4. Somma i risultati dei passi 2 e 3: 58 + 32 = 90\n",
    "5. Poiché 90 è divisibile per 10, il numero di carta di credito è valido.\n",
    "\n",
    "Implementa una funzione `validate_credit_card(card_number)` che accetta un numero di carta di credito come input (puoi assumere che sia una stringa) e restituisca `True` se il numero è valido secondo l'algoritmo di Luhn, oppure `False` se non è valido.\n",
    "\n",
    "Suggerimenti:\n",
    "- Puoi utilizzare cicli `for` per iterare sulle cifre del numero di carta di credito.\n",
    "- Puoi utilizzare condizioni `if` per determinare se una cifra deve essere raddoppiata o meno.\n",
    "- Puoi utilizzare operazioni matematiche come la divisione e il modulo per verificare la divisibilità per 10 del risultato finale."
   ]
  },
  {
   "cell_type": "code",
   "execution_count": null,
   "metadata": {},
   "outputs": [],
   "source": [
    "def validate_credit_card(card_number):\n",
    "    # Rimuovi eventuali spazi o trattini dal numero di carta di credito\n",
    "    card_number = card_number.replace(\" \", \"\").replace(\"-\", \"\")\n",
    "\n",
    "    # Inizializza una variabile per tenere traccia della somma\n",
    "    total_sum = 0\n",
    "\n",
    "    # Itera sulle cifre del numero di carta di credito, partendo dall'ultima\n",
    "    for i in range(len(card_number)-1, -1, -1):\n",
    "        digit = int(card_number[i])\n",
    "\n",
    "        # Controlla se la cifra corrente è in una posizione pari o dispari\n",
    "        if (len(card_number) - i) % 2 == 0:\n",
    "            # Posizione pari (partendo dall'ultima cifra)\n",
    "            doubled_digit = digit * 2\n",
    "            if doubled_digit > 9:\n",
    "                doubled_digit -= 9\n",
    "            total_sum += doubled_digit\n",
    "        else:\n",
    "            # Posizione dispari\n",
    "            total_sum += digit\n",
    "\n",
    "    # Verifica se la somma finale è divisibile per 10\n",
    "    return total_sum % 10 == 0\n",
    "\n",
    "# Esempi di utilizzo\n",
    "print(validate_credit_card(\"4012888888881881\"))  # True\n",
    "print(validate_credit_card(\"4012 8888 8888 1882\"))  # False\n",
    "print(validate_credit_card(\"378282246310005\"))  # True\n",
    "print(validate_credit_card(\"6011-1111-1111-1117\"))  # False"
   ]
  }
 ],
 "metadata": {
  "kernelspec": {
   "display_name": "Python 3",
   "language": "python",
   "name": "python3"
  },
  "language_info": {
   "codemirror_mode": {
    "name": "ipython",
    "version": 3
   },
   "file_extension": ".py",
   "mimetype": "text/x-python",
   "name": "python",
   "nbconvert_exporter": "python",
   "pygments_lexer": "ipython3",
   "version": "3.12.3"
  }
 },
 "nbformat": 4,
 "nbformat_minor": 2
}
