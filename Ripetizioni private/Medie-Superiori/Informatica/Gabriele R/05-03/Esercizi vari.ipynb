{
 "cells": [
  {
   "cell_type": "markdown",
   "metadata": {},
   "source": [
    "Consegna: Analisi delle Temperature Medie\n",
    "Immagina di lavorare per un'agenzia meteorologica e di dover scrivere un programma Python per analizzare i dati delle temperature giornaliere registrate in una determinata città. Il programma dovrebbe essere in grado di leggere manualmente i dati delle temperature (un valore per giorno) e fornire diverse informazioni utili, inclusi la temperatura media mensile, la massima e la minima registrata, e il numero di giorni sopra e sotto una certa soglia di temperatura. Ecco i dettagli:\n",
    "•\tIl programma dovrebbe chiedere all'utente di inserire manualmente le temperature giornaliere per un mese.\n",
    "•\tIl programma dovrebbe calcolare la temperatura media mensile, la massima e la minima registrata durante il periodo considerato.\n",
    "•\tL'utente dovrebbe essere in grado di inserire una soglia di temperatura e il programma dovrebbe contare il numero di giorni sopra e sotto questa soglia.\n",
    "•\tIl programma dovrebbe essere in grado di gestire situazioni in cui l'utente inserisce dati non validi o vuoti, fornendo un messaggio appropriato.\n",
    "\n"
   ]
  },
  {
   "cell_type": "code",
   "execution_count": null,
   "metadata": {},
   "outputs": [],
   "source": [
    "# Inizializzazione delle variabili\n",
    "temperatures = []\n",
    "total_temperature = 0\n",
    "max_temperature = float('-inf')\n",
    "min_temperature = float('inf')\n",
    "days_above_threshold = 0\n",
    "days_below_threshold = 0\n",
    "\n",
    "# Acquisizione delle temperature giornaliere\n",
    "while True:\n",
    "    try:\n",
    "        temperature = float(input(\"Inserisci la temperatura del giorno (o inserisci 'done' per terminare): \"))\n",
    "        if temperature == \"done\":\n",
    "            break\n",
    "        if temperature < -273.15:\n",
    "            print(\"La temperatura non può essere inferiore al valore di zero assoluto.\")\n",
    "            continue\n",
    "        temperatures.append(temperature)\n",
    "        total_temperature += temperature\n",
    "        if temperature > max_temperature:\n",
    "            max_temperature = temperature\n",
    "        if temperature < min_temperature:\n",
    "            min_temperature = temperature\n",
    "    except ValueError:\n",
    "        print(\"Inserisci un valore numerico valido.\")\n",
    "\n",
    "# Calcolo della temperatura media\n",
    "if temperatures:\n",
    "    average_temperature = total_temperature / len(temperatures)\n",
    "    print(\"Temperatura media mensile:\", average_temperature)\n",
    "else:\n",
    "    print(\"Nessun dato inserito, impossibile calcolare la temperatura media.\")\n",
    "\n",
    "# Calcolo del numero di giorni sopra e sotto la soglia\n",
    "try:\n",
    "    threshold = float(input(\"Inserisci una soglia di temperatura: \"))\n",
    "    for temperature in temperatures:\n",
    "        if temperature > threshold:\n",
    "            days_above_threshold += 1\n",
    "        elif temperature < threshold:\n",
    "            days_below_threshold += 1\n",
    "    print(\"Numero di giorni sopra la soglia:\", days_above_threshold)\n",
    "    print(\"Numero di giorni sotto la soglia:\", days_below_threshold)\n",
    "except ValueError:\n",
    "    print(\"Inserisci un valore numerico valido per la soglia di temperatura.\")\n"
   ]
  },
  {
   "cell_type": "markdown",
   "metadata": {},
   "source": [
    "Consegna: Analisi delle Votazioni in una Classe\n",
    "\n",
    "Immagina di essere un insegnante e di dover scrivere un programma Python per analizzare i voti degli studenti in una classe. Il programma dovrebbe essere in grado di registrare i voti degli studenti in diverse materie, calcolare la media dei voti per ciascuno studente e determinare la media della classe per ciascuna materia. Ecco i dettagli:\n",
    "\n",
    "Il programma dovrebbe chiedere all'utente di inserire il numero di studenti nella classe e il numero di materie in cui vengono valutati.\n",
    "Per ciascuno studente, il programma dovrebbe chiedere di inserire i voti per ciascuna materia.\n",
    "Il programma dovrebbe quindi calcolare la media dei voti per ciascuno studente e stamparla.\n",
    "Successivamente, dovrebbe calcolare la media della classe per ciascuna materia e stamparla."
   ]
  },
  {
   "cell_type": "code",
   "execution_count": null,
   "metadata": {},
   "outputs": [],
   "source": [
    "studenti = 0\n",
    "materie = 0\n",
    "voti = 0\n",
    "somma = 0\n",
    "media = 0\n",
    "media_classe = 0\n",
    "#Inserimento del numero di studenti\n",
    "studenti = int(input(\"Inserisci il numero di studenti: \"))\n",
    "#Inserimento del numero di materie\n",
    "materie = int(input(\"Inserisci il numero di materie: \"))\n",
    "#Inserimento dei voti\n",
    "for i in range(1, studenti + 1):\n",
    "    print(f\"Studente {i}\")\n",
    "    for j in range(1, materie + 1):\n",
    "        voti = int(input(f\"Inserisci il voto della materia {j}: \"))\n",
    "        somma += voti\n",
    "    media = somma / materie\n",
    "    print(f\"La media dei voti dello studente {i} è {media}\")\n",
    "    media_classe += media\n",
    "    somma = 0\n",
    "media_classe = media_classe / studenti \n",
    "print(f\"La media della classe è {media_classe}\")\n"
   ]
  }
 ],
 "metadata": {
  "language_info": {
   "name": "python"
  }
 },
 "nbformat": 4,
 "nbformat_minor": 2
}
