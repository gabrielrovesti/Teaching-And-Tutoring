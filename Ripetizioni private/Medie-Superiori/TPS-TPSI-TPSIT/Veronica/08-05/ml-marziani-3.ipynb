{
  "cells": [
    {
      "cell_type": "markdown",
      "id": "33b04584",
      "metadata": {},
      "source": [
        "<h1>Marziani - Parte 3</h1>"
      ]
    },
    {
      "cell_type": "markdown",
      "id": "31a5dc36",
      "metadata": {},
      "source": [
        "Il file <b>marziani.csv</b> contiene i dati relativi alla specie e alcune caratteristiche fisiche di due tipologie di esserini trovati sul pianeta Marte. Ogni linea del file riporta le caratteristiche di un esserino marziano. "
      ]
    },
    {
      "cell_type": "markdown",
      "id": "bd0d803b-bd1e-44e5-be22-5220cc7a75d6",
      "metadata": {},
      "source": [
        "<li>Leggi il file per creare un dataframe con le caratteristiche dei marziani.</li>"
      ]
    },
    {
      "cell_type": "code",
      "execution_count": null,
      "id": "0f81484e",
      "metadata": {
        "trusted": true
      },
      "outputs": [],
      "source": [
        "import pandas as pd\n",
        "\n",
        "marziani = pd.read_csv(\"marziani.csv\")\n",
        "marziani"
      ]
    },
    {
      "cell_type": "markdown",
      "id": "09b9892d-a7be-44cc-83fe-2ca6b6f50af9",
      "metadata": {},
      "source": [
        "<li>Analizza il file utilizzando le funzioni di Pandas.</li>"
      ]
    },
    {
      "cell_type": "code",
      "execution_count": null,
      "id": "014abaa7-77bb-4b20-8ae8-dfaf7adba4bb",
      "metadata": {
        "trusted": true
      },
      "outputs": [],
      "source": [
        "marziani.head()"
      ]
    },
    {
      "cell_type": "code",
      "execution_count": null,
      "id": "419d2897",
      "metadata": {
        "trusted": true
      },
      "outputs": [],
      "source": [
        "marziani.dtypes"
      ]
    },
    {
      "cell_type": "code",
      "execution_count": null,
      "id": "0a92752d",
      "metadata": {
        "trusted": true
      },
      "outputs": [],
      "source": [
        "marziani.info()"
      ]
    },
    {
      "cell_type": "markdown",
      "id": "32a43ed3-97ee-463b-89fc-2d34e2774149",
      "metadata": {},
      "source": [
        "<li>Crea un nuovo dataframe ripulito dalle righe con valori nulli, mancanti o invalidi.</li>"
      ]
    },
    {
      "cell_type": "code",
      "execution_count": null,
      "id": "48b276b9",
      "metadata": {
        "trusted": true
      },
      "outputs": [],
      "source": [
        "marziani_ripulito = marziani.dropna()\n",
        "marziani_ripulito.info()"
      ]
    },
    {
      "cell_type": "markdown",
      "id": "c9853184-f9ad-432f-b9b3-64649465445b",
      "metadata": {},
      "source": [
        "<li>Salva il dataframe in un file excel.</li>"
      ]
    },
    {
      "cell_type": "code",
      "execution_count": null,
      "id": "1162e93c",
      "metadata": {
        "trusted": true
      },
      "outputs": [],
      "source": [
        "marziani_ripulito.to_excel(\"marziani.xlsx\", sheet_name=\"Marziani\")"
      ]
    },
    {
      "cell_type": "markdown",
      "id": "5ecdf466-8740-498b-b9ab-ee670bfb5016",
      "metadata": {},
      "source": [
        "<li>Visualizza le righe relative ai marziani con più di 27 arti.</li>"
      ]
    },
    {
      "cell_type": "code",
      "execution_count": null,
      "id": "e96b72e4",
      "metadata": {
        "trusted": true
      },
      "outputs": [],
      "source": [
        "marziani_ripulito[marziani_ripulito[\"n_arti\"]>27]"
      ]
    },
    {
      "cell_type": "markdown",
      "id": "b9451aa0-5166-4428-a3bd-d4d5b80026ed",
      "metadata": {},
      "source": [
        "<li>Stampa il numero di marziani con più di 28 arti.</li>"
      ]
    },
    {
      "cell_type": "code",
      "execution_count": null,
      "id": "69773b04-1c0a-4cc8-a319-df2ada77ff38",
      "metadata": {
        "trusted": true
      },
      "outputs": [],
      "source": [
        "len(marziani_ripulito[marziani_ripulito[\"n_arti\"]>28])"
      ]
    },
    {
      "cell_type": "markdown",
      "id": "3a42cda3-2f36-4292-85c5-ee9529f8cd71",
      "metadata": {},
      "source": [
        "<li>Trova il numero di arti massimo e minimo che possono avere i marziani del campione.</li>"
      ]
    },
    {
      "cell_type": "code",
      "execution_count": null,
      "id": "a65f2f4f",
      "metadata": {
        "trusted": true
      },
      "outputs": [],
      "source": [
        "print(f'Massimo: {marziani_ripulito[\"n_arti\"].max()}')\n",
        "print(f'Minimo: {marziani_ripulito[\"n_arti\"].min()}')"
      ]
    },
    {
      "cell_type": "markdown",
      "id": "006e8f4a-a156-46fb-ac1f-f2baa7597df0",
      "metadata": {},
      "source": [
        "<li>Visualizza le righe relative ai marziani Robby blu con peso superiore alla media o altezza superiore alla media. Quanti sono?</li>"
      ]
    },
    {
      "cell_type": "code",
      "execution_count": null,
      "id": "b97b563d",
      "metadata": {
        "trusted": true
      },
      "outputs": [],
      "source": [
        "media_peso = marziani_ripulito[\"peso\"].mean()\n",
        "media_altezza = marziani_ripulito[\"altezza\"].mean()\n",
        "marziani_ripulito[(marziani_ripulito[\"specie\"]==\"Robby\") & (marziani_ripulito[\"colore\"]==\"blu\") & \n",
        "                  ((marziani_ripulito[\"peso\"]>media_peso) | (marziani_ripulito[\"altezza\"]>media_altezza))]"
      ]
    },
    {
      "cell_type": "markdown",
      "id": "e2ce1937-0303-42fa-9aef-3490e5adfc35",
      "metadata": {},
      "source": [
        "<b>Sono 56 esemplari.</b>"
      ]
    },
    {
      "cell_type": "markdown",
      "id": "91a8db5a-390e-4a6c-ae9e-6fec34c7a72a",
      "metadata": {},
      "source": [
        "<li>Visualizza la media del numero di arti, altezza, peso e larghezza dei marziani aggregata in base alla specie e al colore.</li>"
      ]
    },
    {
      "cell_type": "code",
      "execution_count": null,
      "id": "986e1c21",
      "metadata": {
        "trusted": true
      },
      "outputs": [],
      "source": [
        "marziani_ripulito[[\"n_arti\",\"altezza\",\"peso\",\"larghezza\",\"specie\",\"colore\"]].groupby([\"specie\",\"colore\"]).mean()"
      ]
    },
    {
      "cell_type": "markdown",
      "id": "574ca0e3-8166-4b2b-a359-92da437a74c1",
      "metadata": {},
      "source": [
        "<li>Conteggia in forma aggregata il numero di marziani per specie e colore.</li>"
      ]
    },
    {
      "cell_type": "code",
      "execution_count": null,
      "id": "ebd61ac9",
      "metadata": {
        "trusted": true
      },
      "outputs": [],
      "source": [
        "marziani_ripulito[[\"specie\",\"colore\"]].value_counts()"
      ]
    },
    {
      "cell_type": "markdown",
      "id": "746fa963-863c-40ea-9c3e-4f3eb874a930",
      "metadata": {},
      "source": [
        "<li>Crea un grafico a dispersione che mostri la relazione tra il peso e la larghezza degli esserini, colorando di verde i Simmy e di rosso i Robby.</li>"
      ]
    },
    {
      "cell_type": "code",
      "execution_count": null,
      "id": "6a97401c-8c8b-4736-bd5e-465a5f224bde",
      "metadata": {
        "trusted": true
      },
      "outputs": [],
      "source": [
        "import matplotlib.pyplot as plt\n",
        "\n",
        "fig, ax = plt.subplots(figsize=(8,8))\n",
        "marziani_ripulito[marziani_ripulito[\"specie\"]==\"Robby\"].plot.scatter(x=\"peso\", y=\"larghezza\", c=\"r\", label=\"Robby\", ax=ax)\n",
        "marziani_ripulito[marziani_ripulito[\"specie\"]==\"Simmy\"].plot.scatter(x=\"peso\", y=\"larghezza\", c=\"g\", label=\"Simmy\", ax=ax)\n",
        "ax.set_xlabel(\"peso\", fontsize=16)\n",
        "ax.set_ylabel(\"larghezza\", fontsize=16)\n",
        "ax.tick_params(axis='x', labelsize=16)\n",
        "ax.tick_params(axis='y', labelsize=16)\n",
        "ax.set_title(\"Le caratteristiche degli esserini Marziani\", fontsize=20)\n",
        "ax.grid(True)\n",
        "ax.legend(fontsize=16)\n",
        "plt.show()"
      ]
    }
  ],
  "metadata": {
    "kernelspec": {
      "display_name": "Python (Pyodide)",
      "language": "python",
      "name": "python"
    },
    "language_info": {
      "codemirror_mode": {
        "name": "python",
        "version": 3
      },
      "file_extension": ".py",
      "mimetype": "text/x-python",
      "name": "python",
      "nbconvert_exporter": "python",
      "pygments_lexer": "ipython3",
      "version": "3.8"
    }
  },
  "nbformat": 4,
  "nbformat_minor": 5
}
